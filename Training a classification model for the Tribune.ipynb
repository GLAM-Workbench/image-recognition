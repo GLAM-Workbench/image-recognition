{
 "cells": [
  {
   "cell_type": "markdown",
   "metadata": {},
   "source": [
    "# Training a model for the Tribune\n",
    "\n",
    "This notebook uses the [Tensorflow for poets](https://codelabs.developers.google.com/codelabs/tensorflow-for-poets/) tutorial to train a new model for classifying images in the Tribune collection.\n",
    "\n",
    "First we'll clone the code repository."
   ]
  },
  {
   "cell_type": "code",
   "execution_count": 2,
   "metadata": {},
   "outputs": [
    {
     "name": "stdout",
     "output_type": "stream",
     "text": [
      "fatal: destination path 'tensorflow-for-poets-2' already exists and is not an empty directory.\r\n"
     ]
    }
   ],
   "source": [
    "!git clone https://github.com/googlecodelabs/tensorflow-for-poets-2"
   ]
  },
  {
   "cell_type": "markdown",
   "metadata": {},
   "source": [
    "Now let's move into the new directory"
   ]
  },
  {
   "cell_type": "code",
   "execution_count": 6,
   "metadata": {},
   "outputs": [
    {
     "name": "stdout",
     "output_type": "stream",
     "text": [
      "/Users/tim/mycode/glam-workbench/image-recognition/notebooks/tensorflow-for-poets-2\n"
     ]
    }
   ],
   "source": [
    "cd tensorflow-for-poets-2"
   ]
  },
  {
   "cell_type": "markdown",
   "metadata": {},
   "source": [
    "## Our categories\n",
    "\n",
    "For our initial experiment we're going to try and distinguish between two categories — protests and portraits."
   ]
  },
  {
   "cell_type": "code",
   "execution_count": 7,
   "metadata": {},
   "outputs": [],
   "source": [
    "img_sets = {\n",
    "    'protests': ['FL4520808', 'FL4520807', 'FL4520809', 'FL4520810', 'FL4520811', 'FL4520812', 'FL4520813', 'FL4520814', 'FL4520816', 'FL4520817', 'FL4520818', 'FL4520820', 'FL4520821', 'FL4520822', 'FL4520823', 'FL4520825', 'FL4520826', 'FL4520827', 'FL4520828', 'FL4520829', 'FL4520830', 'FL4520832', 'FL4520833', 'FL4520834', 'FL4520835', 'FL4520836', 'FL4562467', 'FL4562470', 'FL4562473', 'FL4562477', 'FL4562493', 'FL4562496', 'FL4562498', 'FL4562502', 'FL4562504', 'FL4562506', 'FL4562507', 'FL4562514', 'FL4562526', 'FL4562531', 'FL4562534', 'FL4562538', 'FL4562543', 'FL4562548', 'FL4431373', 'FL4431375', 'FL4431376', 'FL4431377', 'FL4431405', 'FL4431403'],\n",
    "    'portraits': ['FL4549209', 'FL4564140', 'FL4549684', 'FL4545567', 'FL4488477', 'FL4545569', 'FL4534794', 'FL4510388', 'FL4513567', 'FL4513591', 'FL4513594', 'FL4468261', 'FL4531198', 'FL4531240', 'FL4517378', 'FL4517384', 'FL4529746', 'FL4512049', 'FL4512055', 'FL4485185', 'FL4487605', 'FL4487592', 'FL4485540', 'FL4484944', 'FL4484950', 'FL4481774', 'FL4481787', 'FL4478835', 'FL4486661', 'FL4486662', 'FL4474330', 'FL4474354', 'FL4480349', 'FL4480384', 'FL4486300', 'FL4473256', 'FL4474185', 'FL4474152', 'FL4479422', 'FL4479449', 'FL4474018', 'FL4472433', 'FL4479794', 'FL4466608', 'FL4466614', 'FL4450989', 'FL4489424', 'FL4480459', 'FL4588049', 'FL4492349', 'FL4502482', 'FL4491527', 'FL4444441', 'FL4490697', 'FL4433631', 'FL4434468', 'FL4430650', 'FL4430652', 'FL4468274', 'FL4529677', 'FL4532361', 'FL4495950', 'FL8797006', 'FL4522775', 'FL4517556', 'FL4517563', 'FL4518600', 'FL4515829', 'FL4515847', 'FL4519602', 'FL4424262', 'FL4424263', 'FL4424264', 'FL4424278', 'FL4424279', 'FL4588015', 'FL4588016', 'FL4588017', 'FL4537870', 'FL4537872', 'FL4537873', 'FL4537874', 'FL4537878', 'FL4537880', 'FL4537881', 'FL4537882', 'FL4537883', 'FL4537888', 'FL4537889', 'FL4537891', 'FL4537895', 'FL4537896', 'FL4537897', 'FL4537899', 'FL4537902', 'FL4537906', 'FL4537907', 'FL4537909', 'FL4537911', 'FL4540963', 'FL4540964', 'FL4540966', 'FL4540970', 'FL4540972', 'FL4540973', 'FL4540975', 'FL4539968', 'FL4539969', 'FL4539970', 'FL4539971', 'FL4539972', 'FL4539974', 'FL4539988', 'FL4539989', 'FL4490339', 'FL4538816', 'FL4538817', 'FL4538818', 'FL4538825', 'FL4538826', 'FL4538827', 'FL4538828', 'FL4538829', 'FL4538838', 'FL4538839', 'FL4538840', 'FL4538841']\n",
    "}"
   ]
  },
  {
   "cell_type": "markdown",
   "metadata": {},
   "source": [
    "Download the training images."
   ]
  },
  {
   "cell_type": "code",
   "execution_count": 31,
   "metadata": {},
   "outputs": [
    {
     "data": {
      "application/vnd.jupyter.widget-view+json": {
       "model_id": "4bc0b977569444fb853b70538a7056d5",
       "version_major": 2,
       "version_minor": 0
      },
      "text/plain": [
       "HBox(children=(IntProgress(value=0, max=50), HTML(value='')))"
      ]
     },
     "metadata": {},
     "output_type": "display_data"
    },
    {
     "name": "stdout",
     "output_type": "stream",
     "text": [
      "\n"
     ]
    },
    {
     "data": {
      "application/vnd.jupyter.widget-view+json": {
       "model_id": "06ad883569ab4cdcabb08c1bfbb34e81",
       "version_major": 2,
       "version_minor": 0
      },
      "text/plain": [
       "HBox(children=(IntProgress(value=0, max=127), HTML(value='')))"
      ]
     },
     "metadata": {},
     "output_type": "display_data"
    },
    {
     "name": "stdout",
     "output_type": "stream",
     "text": [
      "\n"
     ]
    }
   ],
   "source": [
    "import os\n",
    "from urllib.parse import urlparse\n",
    "from tqdm import tqdm_notebook\n",
    "import requests\n",
    "# Download training images\n",
    "for img_set in ['protests', 'portraits']:\n",
    "    img_dir = os.path.join('tf_files', 'tribune', img_set)\n",
    "    os.makedirs(img_dir, exist_ok=True)\n",
    "    for img in tqdm_notebook(img_sets[img_set]):\n",
    "        img_url = 'https://s3-ap-southeast-2.amazonaws.com/wraggetribune/images/500/{0}-500.jpg'.format(img)\n",
    "        parsed = urlparse(img_url)\n",
    "        filename = os.path.join(img_dir, os.path.basename(parsed.path))\n",
    "        response = requests.get(img_url, stream=True)\n",
    "        with open(filename, 'wb') as fd:\n",
    "            for chunk in response.iter_content(chunk_size=128):\n",
    "                fd.write(chunk)"
   ]
  },
  {
   "cell_type": "code",
   "execution_count": 15,
   "metadata": {},
   "outputs": [
    {
     "name": "stdout",
     "output_type": "stream",
     "text": [
      "\u001b[34mportraits\u001b[m\u001b[m/ \u001b[34mprotests\u001b[m\u001b[m/\r\n"
     ]
    }
   ],
   "source": [
    "ls tf_files/tribune"
   ]
  },
  {
   "cell_type": "markdown",
   "metadata": {},
   "source": [
    "Run this in a terminal, Jupyter doesn't allow background processes...\n",
    "\n",
    "I'm assuming this won't be possible on Binder?\n",
    "\n",
    "```\n",
    "tensorboard --logdir tf_files/training_summaries &\n",
    "```"
   ]
  },
  {
   "cell_type": "markdown",
   "metadata": {},
   "source": [
    "## Train the model"
   ]
  },
  {
   "cell_type": "code",
   "execution_count": 16,
   "metadata": {},
   "outputs": [
    {
     "name": "stderr",
     "output_type": "stream",
     "text": [
      "INFO:tensorflow:Looking for images in 'portraits'\n",
      "INFO:tensorflow:Looking for images in 'protests'\n",
      "2018-10-22 20:50:59.823013: I tensorflow/core/platform/cpu_feature_guard.cc:141] Your CPU supports instructions that this TensorFlow binary was not compiled to use: AVX2 FMA\n",
      "INFO:tensorflow:Creating bottleneck at tf_files/bottlenecks/portraits/FL4538826-500.jpg_mobilenet_0.50_224.txt\n",
      "INFO:tensorflow:Creating bottleneck at tf_files/bottlenecks/portraits/FL4466608-500.jpg_mobilenet_0.50_224.txt\n",
      "INFO:tensorflow:Creating bottleneck at tf_files/bottlenecks/portraits/FL4537878-500.jpg_mobilenet_0.50_224.txt\n",
      "INFO:tensorflow:Creating bottleneck at tf_files/bottlenecks/portraits/FL4424278-500.jpg_mobilenet_0.50_224.txt\n",
      "INFO:tensorflow:Creating bottleneck at tf_files/bottlenecks/portraits/FL4484944-500.jpg_mobilenet_0.50_224.txt\n",
      "INFO:tensorflow:Creating bottleneck at tf_files/bottlenecks/portraits/FL4474152-500.jpg_mobilenet_0.50_224.txt\n",
      "INFO:tensorflow:Creating bottleneck at tf_files/bottlenecks/portraits/FL4540975-500.jpg_mobilenet_0.50_224.txt\n",
      "INFO:tensorflow:Creating bottleneck at tf_files/bottlenecks/portraits/FL4545567-500.jpg_mobilenet_0.50_224.txt\n",
      "INFO:tensorflow:Creating bottleneck at tf_files/bottlenecks/portraits/FL4430650-500.jpg_mobilenet_0.50_224.txt\n",
      "INFO:tensorflow:Creating bottleneck at tf_files/bottlenecks/portraits/FL4485185-500.jpg_mobilenet_0.50_224.txt\n",
      "INFO:tensorflow:Creating bottleneck at tf_files/bottlenecks/portraits/FL4532361-500.jpg_mobilenet_0.50_224.txt\n",
      "INFO:tensorflow:Creating bottleneck at tf_files/bottlenecks/portraits/FL4537895-500.jpg_mobilenet_0.50_224.txt\n",
      "INFO:tensorflow:Creating bottleneck at tf_files/bottlenecks/portraits/FL4549209-500.jpg_mobilenet_0.50_224.txt\n",
      "INFO:tensorflow:Creating bottleneck at tf_files/bottlenecks/portraits/FL4540964-500.jpg_mobilenet_0.50_224.txt\n",
      "INFO:tensorflow:Creating bottleneck at tf_files/bottlenecks/portraits/FL4486300-500.jpg_mobilenet_0.50_224.txt\n",
      "INFO:tensorflow:Creating bottleneck at tf_files/bottlenecks/portraits/FL4537870-500.jpg_mobilenet_0.50_224.txt\n",
      "INFO:tensorflow:Creating bottleneck at tf_files/bottlenecks/portraits/FL4529677-500.jpg_mobilenet_0.50_224.txt\n",
      "INFO:tensorflow:Creating bottleneck at tf_files/bottlenecks/portraits/FL4474354-500.jpg_mobilenet_0.50_224.txt\n",
      "INFO:tensorflow:Creating bottleneck at tf_files/bottlenecks/portraits/FL4538827-500.jpg_mobilenet_0.50_224.txt\n",
      "INFO:tensorflow:Creating bottleneck at tf_files/bottlenecks/portraits/FL4485540-500.jpg_mobilenet_0.50_224.txt\n",
      "INFO:tensorflow:Creating bottleneck at tf_files/bottlenecks/portraits/FL4531240-500.jpg_mobilenet_0.50_224.txt\n",
      "INFO:tensorflow:Creating bottleneck at tf_files/bottlenecks/portraits/FL4424279-500.jpg_mobilenet_0.50_224.txt\n",
      "INFO:tensorflow:Creating bottleneck at tf_files/bottlenecks/portraits/FL4538818-500.jpg_mobilenet_0.50_224.txt\n",
      "INFO:tensorflow:Creating bottleneck at tf_files/bottlenecks/portraits/FL4480349-500.jpg_mobilenet_0.50_224.txt\n",
      "INFO:tensorflow:Creating bottleneck at tf_files/bottlenecks/portraits/FL4510388-500.jpg_mobilenet_0.50_224.txt\n",
      "INFO:tensorflow:Creating bottleneck at tf_files/bottlenecks/portraits/FL4540966-500.jpg_mobilenet_0.50_224.txt\n",
      "INFO:tensorflow:Creating bottleneck at tf_files/bottlenecks/portraits/FL4537872-500.jpg_mobilenet_0.50_224.txt\n",
      "INFO:tensorflow:Creating bottleneck at tf_files/bottlenecks/portraits/FL4488477-500.jpg_mobilenet_0.50_224.txt\n",
      "INFO:tensorflow:Creating bottleneck at tf_files/bottlenecks/portraits/FL4539989-500.jpg_mobilenet_0.50_224.txt\n",
      "INFO:tensorflow:Creating bottleneck at tf_files/bottlenecks/portraits/FL4480459-500.jpg_mobilenet_0.50_224.txt\n",
      "INFO:tensorflow:Creating bottleneck at tf_files/bottlenecks/portraits/FL4481774-500.jpg_mobilenet_0.50_224.txt\n",
      "INFO:tensorflow:Creating bottleneck at tf_files/bottlenecks/portraits/FL4539974-500.jpg_mobilenet_0.50_224.txt\n",
      "INFO:tensorflow:Creating bottleneck at tf_files/bottlenecks/portraits/FL4534794-500.jpg_mobilenet_0.50_224.txt\n",
      "INFO:tensorflow:Creating bottleneck at tf_files/bottlenecks/portraits/FL4537902-500.jpg_mobilenet_0.50_224.txt\n",
      "INFO:tensorflow:Creating bottleneck at tf_files/bottlenecks/portraits/FL4513594-500.jpg_mobilenet_0.50_224.txt\n",
      "INFO:tensorflow:Creating bottleneck at tf_files/bottlenecks/portraits/FL4489424-500.jpg_mobilenet_0.50_224.txt\n",
      "INFO:tensorflow:Creating bottleneck at tf_files/bottlenecks/portraits/FL4515829-500.jpg_mobilenet_0.50_224.txt\n",
      "INFO:tensorflow:Creating bottleneck at tf_files/bottlenecks/portraits/FL4487592-500.jpg_mobilenet_0.50_224.txt\n",
      "INFO:tensorflow:Creating bottleneck at tf_files/bottlenecks/portraits/FL4512055-500.jpg_mobilenet_0.50_224.txt\n",
      "INFO:tensorflow:Creating bottleneck at tf_files/bottlenecks/portraits/FL4473256-500.jpg_mobilenet_0.50_224.txt\n",
      "INFO:tensorflow:Creating bottleneck at tf_files/bottlenecks/portraits/FL4424263-500.jpg_mobilenet_0.50_224.txt\n",
      "INFO:tensorflow:Creating bottleneck at tf_files/bottlenecks/portraits/FL4537897-500.jpg_mobilenet_0.50_224.txt\n",
      "INFO:tensorflow:Creating bottleneck at tf_files/bottlenecks/portraits/FL4430652-500.jpg_mobilenet_0.50_224.txt\n",
      "INFO:tensorflow:Creating bottleneck at tf_files/bottlenecks/portraits/FL4539988-500.jpg_mobilenet_0.50_224.txt\n",
      "INFO:tensorflow:Creating bottleneck at tf_files/bottlenecks/portraits/FL4474330-500.jpg_mobilenet_0.50_224.txt\n",
      "INFO:tensorflow:Creating bottleneck at tf_files/bottlenecks/portraits/FL4515847-500.jpg_mobilenet_0.50_224.txt\n",
      "INFO:tensorflow:Creating bottleneck at tf_files/bottlenecks/portraits/FL4538817-500.jpg_mobilenet_0.50_224.txt\n",
      "INFO:tensorflow:Creating bottleneck at tf_files/bottlenecks/portraits/FL4537882-500.jpg_mobilenet_0.50_224.txt\n",
      "INFO:tensorflow:Creating bottleneck at tf_files/bottlenecks/portraits/FL4539969-500.jpg_mobilenet_0.50_224.txt\n",
      "INFO:tensorflow:Creating bottleneck at tf_files/bottlenecks/portraits/FL4538838-500.jpg_mobilenet_0.50_224.txt\n",
      "INFO:tensorflow:Creating bottleneck at tf_files/bottlenecks/portraits/FL4538828-500.jpg_mobilenet_0.50_224.txt\n",
      "INFO:tensorflow:Creating bottleneck at tf_files/bottlenecks/portraits/FL4540972-500.jpg_mobilenet_0.50_224.txt\n",
      "INFO:tensorflow:Creating bottleneck at tf_files/bottlenecks/portraits/FL4513591-500.jpg_mobilenet_0.50_224.txt\n",
      "INFO:tensorflow:Creating bottleneck at tf_files/bottlenecks/portraits/FL4588016-500.jpg_mobilenet_0.50_224.txt\n",
      "INFO:tensorflow:Creating bottleneck at tf_files/bottlenecks/portraits/FL4480384-500.jpg_mobilenet_0.50_224.txt\n",
      "INFO:tensorflow:Creating bottleneck at tf_files/bottlenecks/portraits/FL4486661-500.jpg_mobilenet_0.50_224.txt\n",
      "INFO:tensorflow:Creating bottleneck at tf_files/bottlenecks/portraits/FL4434468-500.jpg_mobilenet_0.50_224.txt\n",
      "INFO:tensorflow:Creating bottleneck at tf_files/bottlenecks/portraits/FL4537907-500.jpg_mobilenet_0.50_224.txt\n",
      "INFO:tensorflow:Creating bottleneck at tf_files/bottlenecks/portraits/FL4487605-500.jpg_mobilenet_0.50_224.txt\n",
      "INFO:tensorflow:Creating bottleneck at tf_files/bottlenecks/portraits/FL4539970-500.jpg_mobilenet_0.50_224.txt\n",
      "INFO:tensorflow:Creating bottleneck at tf_files/bottlenecks/portraits/FL4545569-500.jpg_mobilenet_0.50_224.txt\n",
      "INFO:tensorflow:Creating bottleneck at tf_files/bottlenecks/portraits/FL4502482-500.jpg_mobilenet_0.50_224.txt\n",
      "INFO:tensorflow:Creating bottleneck at tf_files/bottlenecks/portraits/FL4490697-500.jpg_mobilenet_0.50_224.txt\n",
      "INFO:tensorflow:Creating bottleneck at tf_files/bottlenecks/portraits/FL4588017-500.jpg_mobilenet_0.50_224.txt\n",
      "INFO:tensorflow:Creating bottleneck at tf_files/bottlenecks/portraits/FL4517563-500.jpg_mobilenet_0.50_224.txt\n",
      "INFO:tensorflow:Creating bottleneck at tf_files/bottlenecks/portraits/FL4433631-500.jpg_mobilenet_0.50_224.txt\n",
      "INFO:tensorflow:Creating bottleneck at tf_files/bottlenecks/portraits/FL4450989-500.jpg_mobilenet_0.50_224.txt\n",
      "INFO:tensorflow:Creating bottleneck at tf_files/bottlenecks/portraits/FL4537906-500.jpg_mobilenet_0.50_224.txt\n",
      "INFO:tensorflow:Creating bottleneck at tf_files/bottlenecks/portraits/FL4531198-500.jpg_mobilenet_0.50_224.txt\n",
      "INFO:tensorflow:Creating bottleneck at tf_files/bottlenecks/portraits/FL4539971-500.jpg_mobilenet_0.50_224.txt\n",
      "INFO:tensorflow:Creating bottleneck at tf_files/bottlenecks/portraits/FL4538816-500.jpg_mobilenet_0.50_224.txt\n",
      "INFO:tensorflow:Creating bottleneck at tf_files/bottlenecks/portraits/FL4537883-500.jpg_mobilenet_0.50_224.txt\n",
      "INFO:tensorflow:Creating bottleneck at tf_files/bottlenecks/portraits/FL4539968-500.jpg_mobilenet_0.50_224.txt\n",
      "INFO:tensorflow:Creating bottleneck at tf_files/bottlenecks/portraits/FL4538829-500.jpg_mobilenet_0.50_224.txt\n",
      "INFO:tensorflow:Creating bottleneck at tf_files/bottlenecks/portraits/FL4538839-500.jpg_mobilenet_0.50_224.txt\n",
      "INFO:tensorflow:Creating bottleneck at tf_files/bottlenecks/portraits/FL4540963-500.jpg_mobilenet_0.50_224.txt\n",
      "INFO:tensorflow:Creating bottleneck at tf_files/bottlenecks/portraits/FL4540973-500.jpg_mobilenet_0.50_224.txt\n",
      "INFO:tensorflow:Creating bottleneck at tf_files/bottlenecks/portraits/FL4537888-500.jpg_mobilenet_0.50_224.txt\n",
      "INFO:tensorflow:Creating bottleneck at tf_files/bottlenecks/portraits/FL4444441-500.jpg_mobilenet_0.50_224.txt\n",
      "INFO:tensorflow:Creating bottleneck at tf_files/bottlenecks/portraits/FL4588015-500.jpg_mobilenet_0.50_224.txt\n",
      "INFO:tensorflow:Creating bottleneck at tf_files/bottlenecks/portraits/FL4481787-500.jpg_mobilenet_0.50_224.txt\n",
      "INFO:tensorflow:Creating bottleneck at tf_files/bottlenecks/portraits/FL4484950-500.jpg_mobilenet_0.50_224.txt\n",
      "INFO:tensorflow:Creating bottleneck at tf_files/bottlenecks/portraits/FL4522775-500.jpg_mobilenet_0.50_224.txt\n",
      "INFO:tensorflow:Creating bottleneck at tf_files/bottlenecks/portraits/FL4517384-500.jpg_mobilenet_0.50_224.txt\n",
      "INFO:tensorflow:Creating bottleneck at tf_files/bottlenecks/portraits/FL4537891-500.jpg_mobilenet_0.50_224.txt\n",
      "INFO:tensorflow:Creating bottleneck at tf_files/bottlenecks/portraits/FL4474018-500.jpg_mobilenet_0.50_224.txt\n",
      "INFO:tensorflow:Creating bottleneck at tf_files/bottlenecks/portraits/FL4491527-500.jpg_mobilenet_0.50_224.txt\n",
      "INFO:tensorflow:Creating bottleneck at tf_files/bottlenecks/portraits/FL4529746-500.jpg_mobilenet_0.50_224.txt\n",
      "INFO:tensorflow:Creating bottleneck at tf_files/bottlenecks/portraits/FL4537880-500.jpg_mobilenet_0.50_224.txt\n",
      "INFO:tensorflow:Creating bottleneck at tf_files/bottlenecks/portraits/FL4490339-500.jpg_mobilenet_0.50_224.txt\n",
      "INFO:tensorflow:Creating bottleneck at tf_files/bottlenecks/portraits/FL4474185-500.jpg_mobilenet_0.50_224.txt\n",
      "INFO:tensorflow:Creating bottleneck at tf_files/bottlenecks/portraits/FL4537874-500.jpg_mobilenet_0.50_224.txt\n",
      "INFO:tensorflow:Creating bottleneck at tf_files/bottlenecks/portraits/FL4424264-500.jpg_mobilenet_0.50_224.txt\n",
      "INFO:tensorflow:Creating bottleneck at tf_files/bottlenecks/portraits/FL4540970-500.jpg_mobilenet_0.50_224.txt\n",
      "INFO:tensorflow:Creating bottleneck at tf_files/bottlenecks/portraits/FL4517556-500.jpg_mobilenet_0.50_224.txt\n",
      "INFO:tensorflow:Creating bottleneck at tf_files/bottlenecks/portraits/FL4466614-500.jpg_mobilenet_0.50_224.txt\n",
      "INFO:tensorflow:Creating bottleneck at tf_files/bottlenecks/portraits/FL4478835-500.jpg_mobilenet_0.50_224.txt\n",
      "INFO:tensorflow:Creating bottleneck at tf_files/bottlenecks/portraits/FL4537899-500.jpg_mobilenet_0.50_224.txt\n",
      "INFO:tensorflow:Creating bottleneck at tf_files/bottlenecks/portraits/FL4537889-500.jpg_mobilenet_0.50_224.txt\n",
      "INFO:tensorflow:Creating bottleneck at tf_files/bottlenecks/portraits/FL4513567-500.jpg_mobilenet_0.50_224.txt\n",
      "INFO:tensorflow:100 bottleneck files created.\n",
      "INFO:tensorflow:Creating bottleneck at tf_files/bottlenecks/portraits/FL4517378-500.jpg_mobilenet_0.50_224.txt\n",
      "INFO:tensorflow:Creating bottleneck at tf_files/bottlenecks/portraits/FL4564140-500.jpg_mobilenet_0.50_224.txt\n",
      "INFO:tensorflow:Creating bottleneck at tf_files/bottlenecks/portraits/FL4588049-500.jpg_mobilenet_0.50_224.txt\n",
      "INFO:tensorflow:Creating bottleneck at tf_files/bottlenecks/portraits/FL4538841-500.jpg_mobilenet_0.50_224.txt\n",
      "INFO:tensorflow:Creating bottleneck at tf_files/bottlenecks/portraits/FL4518600-500.jpg_mobilenet_0.50_224.txt\n",
      "INFO:tensorflow:Creating bottleneck at tf_files/bottlenecks/portraits/FL4468261-500.jpg_mobilenet_0.50_224.txt\n",
      "INFO:tensorflow:Creating bottleneck at tf_files/bottlenecks/portraits/FL4537911-500.jpg_mobilenet_0.50_224.txt\n",
      "INFO:tensorflow:Creating bottleneck at tf_files/bottlenecks/portraits/FL4424262-500.jpg_mobilenet_0.50_224.txt\n",
      "INFO:tensorflow:Creating bottleneck at tf_files/bottlenecks/portraits/FL4537896-500.jpg_mobilenet_0.50_224.txt\n",
      "INFO:tensorflow:Creating bottleneck at tf_files/bottlenecks/portraits/FL4472433-500.jpg_mobilenet_0.50_224.txt\n",
      "INFO:tensorflow:Creating bottleneck at tf_files/bottlenecks/portraits/FL4479449-500.jpg_mobilenet_0.50_224.txt\n",
      "INFO:tensorflow:Creating bottleneck at tf_files/bottlenecks/portraits/FL4486662-500.jpg_mobilenet_0.50_224.txt\n",
      "INFO:tensorflow:Creating bottleneck at tf_files/bottlenecks/portraits/FL4519602-500.jpg_mobilenet_0.50_224.txt\n",
      "INFO:tensorflow:Creating bottleneck at tf_files/bottlenecks/portraits/FL4492349-500.jpg_mobilenet_0.50_224.txt\n",
      "INFO:tensorflow:Creating bottleneck at tf_files/bottlenecks/portraits/FL4538840-500.jpg_mobilenet_0.50_224.txt\n",
      "INFO:tensorflow:Creating bottleneck at tf_files/bottlenecks/portraits/FL4468274-500.jpg_mobilenet_0.50_224.txt\n",
      "INFO:tensorflow:Creating bottleneck at tf_files/bottlenecks/portraits/FL4479794-500.jpg_mobilenet_0.50_224.txt\n",
      "INFO:tensorflow:Creating bottleneck at tf_files/bottlenecks/portraits/FL4539972-500.jpg_mobilenet_0.50_224.txt\n",
      "INFO:tensorflow:Creating bottleneck at tf_files/bottlenecks/portraits/FL4549684-500.jpg_mobilenet_0.50_224.txt\n",
      "INFO:tensorflow:Creating bottleneck at tf_files/bottlenecks/portraits/FL4537909-500.jpg_mobilenet_0.50_224.txt\n",
      "INFO:tensorflow:Creating bottleneck at tf_files/bottlenecks/portraits/FL8797006-500.jpg_mobilenet_0.50_224.txt\n",
      "INFO:tensorflow:Creating bottleneck at tf_files/bottlenecks/portraits/FL4538825-500.jpg_mobilenet_0.50_224.txt\n",
      "INFO:tensorflow:Creating bottleneck at tf_files/bottlenecks/portraits/FL4537873-500.jpg_mobilenet_0.50_224.txt\n",
      "INFO:tensorflow:Creating bottleneck at tf_files/bottlenecks/portraits/FL4512049-500.jpg_mobilenet_0.50_224.txt\n",
      "INFO:tensorflow:Creating bottleneck at tf_files/bottlenecks/portraits/FL4479422-500.jpg_mobilenet_0.50_224.txt\n",
      "INFO:tensorflow:Creating bottleneck at tf_files/bottlenecks/portraits/FL4537881-500.jpg_mobilenet_0.50_224.txt\n",
      "INFO:tensorflow:Creating bottleneck at tf_files/bottlenecks/portraits/FL4495950-500.jpg_mobilenet_0.50_224.txt\n",
      "INFO:tensorflow:Creating bottleneck at tf_files/bottlenecks/protests/FL4520828-500.jpg_mobilenet_0.50_224.txt\n",
      "INFO:tensorflow:Creating bottleneck at tf_files/bottlenecks/protests/FL4431375-500.jpg_mobilenet_0.50_224.txt\n",
      "INFO:tensorflow:Creating bottleneck at tf_files/bottlenecks/protests/FL4520817-500.jpg_mobilenet_0.50_224.txt\n",
      "INFO:tensorflow:Creating bottleneck at tf_files/bottlenecks/protests/FL4520807-500.jpg_mobilenet_0.50_224.txt\n",
      "INFO:tensorflow:Creating bottleneck at tf_files/bottlenecks/protests/FL4431405-500.jpg_mobilenet_0.50_224.txt\n",
      "INFO:tensorflow:Creating bottleneck at tf_files/bottlenecks/protests/FL4562496-500.jpg_mobilenet_0.50_224.txt\n",
      "INFO:tensorflow:Creating bottleneck at tf_files/bottlenecks/protests/FL4562473-500.jpg_mobilenet_0.50_224.txt\n",
      "INFO:tensorflow:Creating bottleneck at tf_files/bottlenecks/protests/FL4562534-500.jpg_mobilenet_0.50_224.txt\n",
      "INFO:tensorflow:Creating bottleneck at tf_files/bottlenecks/protests/FL4562502-500.jpg_mobilenet_0.50_224.txt\n",
      "INFO:tensorflow:Creating bottleneck at tf_files/bottlenecks/protests/FL4520820-500.jpg_mobilenet_0.50_224.txt\n",
      "INFO:tensorflow:Creating bottleneck at tf_files/bottlenecks/protests/FL4520830-500.jpg_mobilenet_0.50_224.txt\n",
      "INFO:tensorflow:Creating bottleneck at tf_files/bottlenecks/protests/FL4431376-500.jpg_mobilenet_0.50_224.txt\n",
      "INFO:tensorflow:Creating bottleneck at tf_files/bottlenecks/protests/FL4562526-500.jpg_mobilenet_0.50_224.txt\n",
      "INFO:tensorflow:Creating bottleneck at tf_files/bottlenecks/protests/FL4520814-500.jpg_mobilenet_0.50_224.txt\n",
      "INFO:tensorflow:Creating bottleneck at tf_files/bottlenecks/protests/FL4520832-500.jpg_mobilenet_0.50_224.txt\n",
      "INFO:tensorflow:Creating bottleneck at tf_files/bottlenecks/protests/FL4520822-500.jpg_mobilenet_0.50_224.txt\n",
      "INFO:tensorflow:Creating bottleneck at tf_files/bottlenecks/protests/FL4520823-500.jpg_mobilenet_0.50_224.txt\n",
      "INFO:tensorflow:Creating bottleneck at tf_files/bottlenecks/protests/FL4520833-500.jpg_mobilenet_0.50_224.txt\n",
      "INFO:tensorflow:Creating bottleneck at tf_files/bottlenecks/protests/FL4562470-500.jpg_mobilenet_0.50_224.txt\n",
      "INFO:tensorflow:Creating bottleneck at tf_files/bottlenecks/protests/FL4431377-500.jpg_mobilenet_0.50_224.txt\n",
      "INFO:tensorflow:Creating bottleneck at tf_files/bottlenecks/protests/FL4520810-500.jpg_mobilenet_0.50_224.txt\n",
      "INFO:tensorflow:Creating bottleneck at tf_files/bottlenecks/protests/FL4520809-500.jpg_mobilenet_0.50_224.txt\n",
      "INFO:tensorflow:Creating bottleneck at tf_files/bottlenecks/protests/FL4562498-500.jpg_mobilenet_0.50_224.txt\n",
      "INFO:tensorflow:Creating bottleneck at tf_files/bottlenecks/protests/FL4562504-500.jpg_mobilenet_0.50_224.txt\n",
      "INFO:tensorflow:Creating bottleneck at tf_files/bottlenecks/protests/FL4562514-500.jpg_mobilenet_0.50_224.txt\n",
      "INFO:tensorflow:Creating bottleneck at tf_files/bottlenecks/protests/FL4520826-500.jpg_mobilenet_0.50_224.txt\n",
      "INFO:tensorflow:Creating bottleneck at tf_files/bottlenecks/protests/FL4562548-500.jpg_mobilenet_0.50_224.txt\n",
      "INFO:tensorflow:Creating bottleneck at tf_files/bottlenecks/protests/FL4431403-500.jpg_mobilenet_0.50_224.txt\n",
      "INFO:tensorflow:Creating bottleneck at tf_files/bottlenecks/protests/FL4520811-500.jpg_mobilenet_0.50_224.txt\n",
      "INFO:tensorflow:Creating bottleneck at tf_files/bottlenecks/protests/FL4431373-500.jpg_mobilenet_0.50_224.txt\n",
      "INFO:tensorflow:Creating bottleneck at tf_files/bottlenecks/protests/FL4562538-500.jpg_mobilenet_0.50_224.txt\n",
      "INFO:tensorflow:Creating bottleneck at tf_files/bottlenecks/protests/FL4520835-500.jpg_mobilenet_0.50_224.txt\n",
      "INFO:tensorflow:Creating bottleneck at tf_files/bottlenecks/protests/FL4562507-500.jpg_mobilenet_0.50_224.txt\n",
      "INFO:tensorflow:Creating bottleneck at tf_files/bottlenecks/protests/FL4562531-500.jpg_mobilenet_0.50_224.txt\n",
      "INFO:tensorflow:Creating bottleneck at tf_files/bottlenecks/protests/FL4520812-500.jpg_mobilenet_0.50_224.txt\n",
      "INFO:tensorflow:Creating bottleneck at tf_files/bottlenecks/protests/FL4562493-500.jpg_mobilenet_0.50_224.txt\n",
      "INFO:tensorflow:Creating bottleneck at tf_files/bottlenecks/protests/FL4562477-500.jpg_mobilenet_0.50_224.txt\n",
      "INFO:tensorflow:Creating bottleneck at tf_files/bottlenecks/protests/FL4562506-500.jpg_mobilenet_0.50_224.txt\n",
      "INFO:tensorflow:Creating bottleneck at tf_files/bottlenecks/protests/FL4520821-500.jpg_mobilenet_0.50_224.txt\n",
      "INFO:tensorflow:Creating bottleneck at tf_files/bottlenecks/protests/FL4520829-500.jpg_mobilenet_0.50_224.txt\n",
      "INFO:tensorflow:Creating bottleneck at tf_files/bottlenecks/protests/FL4520836-500.jpg_mobilenet_0.50_224.txt\n",
      "INFO:tensorflow:Creating bottleneck at tf_files/bottlenecks/protests/FL4520818-500.jpg_mobilenet_0.50_224.txt\n",
      "INFO:tensorflow:Creating bottleneck at tf_files/bottlenecks/protests/FL4520808-500.jpg_mobilenet_0.50_224.txt\n",
      "INFO:tensorflow:Creating bottleneck at tf_files/bottlenecks/protests/FL4520825-500.jpg_mobilenet_0.50_224.txt\n",
      "INFO:tensorflow:Creating bottleneck at tf_files/bottlenecks/protests/FL4520813-500.jpg_mobilenet_0.50_224.txt\n",
      "INFO:tensorflow:Creating bottleneck at tf_files/bottlenecks/protests/FL4562543-500.jpg_mobilenet_0.50_224.txt\n",
      "INFO:tensorflow:Creating bottleneck at tf_files/bottlenecks/protests/FL4520816-500.jpg_mobilenet_0.50_224.txt\n",
      "INFO:tensorflow:Creating bottleneck at tf_files/bottlenecks/protests/FL4520827-500.jpg_mobilenet_0.50_224.txt\n",
      "INFO:tensorflow:Creating bottleneck at tf_files/bottlenecks/protests/FL4562467-500.jpg_mobilenet_0.50_224.txt\n",
      "INFO:tensorflow:Creating bottleneck at tf_files/bottlenecks/protests/FL4520834-500.jpg_mobilenet_0.50_224.txt\n",
      "WARNING:tensorflow:From /Users/tim/mycode/glam-workbench/image-recognition/notebooks/tensorflow-for-poets-2/scripts/retrain.py:790: softmax_cross_entropy_with_logits (from tensorflow.python.ops.nn_ops) is deprecated and will be removed in a future version.\n",
      "Instructions for updating:\n",
      "\n",
      "Future major versions of TensorFlow will allow gradients to flow\n",
      "into the labels input on backprop by default.\n",
      "\n",
      "See `tf.nn.softmax_cross_entropy_with_logits_v2`.\n",
      "\n",
      "INFO:tensorflow:2018-10-22 20:51:03.167022: Step 0: Train accuracy = 90.0%\n",
      "INFO:tensorflow:2018-10-22 20:51:03.167188: Step 0: Cross entropy = 0.196293\n",
      "INFO:tensorflow:2018-10-22 20:51:03.432301: Step 0: Validation accuracy = 71.0% (N=100)\n",
      "INFO:tensorflow:2018-10-22 20:51:03.820939: Step 10: Train accuracy = 99.0%\n",
      "INFO:tensorflow:2018-10-22 20:51:03.821065: Step 10: Cross entropy = 0.037386\n",
      "INFO:tensorflow:2018-10-22 20:51:03.856831: Step 10: Validation accuracy = 87.0% (N=100)\n",
      "INFO:tensorflow:2018-10-22 20:51:04.233496: Step 20: Train accuracy = 100.0%\n",
      "INFO:tensorflow:2018-10-22 20:51:04.233627: Step 20: Cross entropy = 0.016018\n",
      "INFO:tensorflow:2018-10-22 20:51:04.270726: Step 20: Validation accuracy = 100.0% (N=100)\n",
      "INFO:tensorflow:2018-10-22 20:51:04.632337: Step 30: Train accuracy = 100.0%\n",
      "INFO:tensorflow:2018-10-22 20:51:04.632467: Step 30: Cross entropy = 0.005582\n",
      "INFO:tensorflow:2018-10-22 20:51:04.668269: Step 30: Validation accuracy = 100.0% (N=100)\n",
      "INFO:tensorflow:2018-10-22 20:51:05.037001: Step 40: Train accuracy = 100.0%\n",
      "INFO:tensorflow:2018-10-22 20:51:05.037131: Step 40: Cross entropy = 0.002519\n",
      "INFO:tensorflow:2018-10-22 20:51:05.073541: Step 40: Validation accuracy = 100.0% (N=100)\n",
      "INFO:tensorflow:2018-10-22 20:51:05.450996: Step 50: Train accuracy = 100.0%\n",
      "INFO:tensorflow:2018-10-22 20:51:05.451132: Step 50: Cross entropy = 0.001518\n",
      "INFO:tensorflow:2018-10-22 20:51:05.493843: Step 50: Validation accuracy = 100.0% (N=100)\n",
      "INFO:tensorflow:2018-10-22 20:51:05.866870: Step 60: Train accuracy = 100.0%\n",
      "INFO:tensorflow:2018-10-22 20:51:05.866996: Step 60: Cross entropy = 0.002574\n",
      "INFO:tensorflow:2018-10-22 20:51:05.902597: Step 60: Validation accuracy = 100.0% (N=100)\n",
      "INFO:tensorflow:2018-10-22 20:51:06.269637: Step 70: Train accuracy = 100.0%\n",
      "INFO:tensorflow:2018-10-22 20:51:06.269766: Step 70: Cross entropy = 0.002652\n",
      "INFO:tensorflow:2018-10-22 20:51:06.305639: Step 70: Validation accuracy = 100.0% (N=100)\n",
      "INFO:tensorflow:2018-10-22 20:51:06.668456: Step 80: Train accuracy = 100.0%\n",
      "INFO:tensorflow:2018-10-22 20:51:06.668598: Step 80: Cross entropy = 0.001056\n",
      "INFO:tensorflow:2018-10-22 20:51:06.704026: Step 80: Validation accuracy = 100.0% (N=100)\n",
      "INFO:tensorflow:2018-10-22 20:51:07.067517: Step 90: Train accuracy = 100.0%\n",
      "INFO:tensorflow:2018-10-22 20:51:07.067643: Step 90: Cross entropy = 0.000813\n",
      "INFO:tensorflow:2018-10-22 20:51:07.102169: Step 90: Validation accuracy = 100.0% (N=100)\n",
      "INFO:tensorflow:2018-10-22 20:51:07.479418: Step 100: Train accuracy = 100.0%\n",
      "INFO:tensorflow:2018-10-22 20:51:07.479550: Step 100: Cross entropy = 0.001640\n",
      "INFO:tensorflow:2018-10-22 20:51:07.518616: Step 100: Validation accuracy = 100.0% (N=100)\n",
      "INFO:tensorflow:2018-10-22 20:51:07.880439: Step 110: Train accuracy = 100.0%\n",
      "INFO:tensorflow:2018-10-22 20:51:07.880568: Step 110: Cross entropy = 0.001224\n",
      "INFO:tensorflow:2018-10-22 20:51:07.916245: Step 110: Validation accuracy = 100.0% (N=100)\n",
      "INFO:tensorflow:2018-10-22 20:51:08.296064: Step 120: Train accuracy = 100.0%\n",
      "INFO:tensorflow:2018-10-22 20:51:08.296228: Step 120: Cross entropy = 0.001698\n",
      "INFO:tensorflow:2018-10-22 20:51:08.337623: Step 120: Validation accuracy = 100.0% (N=100)\n",
      "INFO:tensorflow:2018-10-22 20:51:08.722216: Step 130: Train accuracy = 100.0%\n",
      "INFO:tensorflow:2018-10-22 20:51:08.722349: Step 130: Cross entropy = 0.001359\n",
      "INFO:tensorflow:2018-10-22 20:51:08.759727: Step 130: Validation accuracy = 100.0% (N=100)\n",
      "INFO:tensorflow:2018-10-22 20:51:09.132627: Step 140: Train accuracy = 100.0%\n",
      "INFO:tensorflow:2018-10-22 20:51:09.132753: Step 140: Cross entropy = 0.001035\n",
      "INFO:tensorflow:2018-10-22 20:51:09.167915: Step 140: Validation accuracy = 100.0% (N=100)\n",
      "INFO:tensorflow:2018-10-22 20:51:09.540030: Step 150: Train accuracy = 100.0%\n",
      "INFO:tensorflow:2018-10-22 20:51:09.540156: Step 150: Cross entropy = 0.000725\n",
      "INFO:tensorflow:2018-10-22 20:51:09.574928: Step 150: Validation accuracy = 100.0% (N=100)\n",
      "INFO:tensorflow:2018-10-22 20:51:09.938756: Step 160: Train accuracy = 100.0%\n",
      "INFO:tensorflow:2018-10-22 20:51:09.938897: Step 160: Cross entropy = 0.001366\n",
      "INFO:tensorflow:2018-10-22 20:51:09.974369: Step 160: Validation accuracy = 100.0% (N=100)\n",
      "INFO:tensorflow:2018-10-22 20:51:10.339321: Step 170: Train accuracy = 100.0%\n",
      "INFO:tensorflow:2018-10-22 20:51:10.339447: Step 170: Cross entropy = 0.001453\n",
      "INFO:tensorflow:2018-10-22 20:51:10.375918: Step 170: Validation accuracy = 100.0% (N=100)\n",
      "INFO:tensorflow:2018-10-22 20:51:10.740325: Step 180: Train accuracy = 100.0%\n",
      "INFO:tensorflow:2018-10-22 20:51:10.740451: Step 180: Cross entropy = 0.001159\n",
      "INFO:tensorflow:2018-10-22 20:51:10.776298: Step 180: Validation accuracy = 100.0% (N=100)\n",
      "INFO:tensorflow:2018-10-22 20:51:11.149447: Step 190: Train accuracy = 100.0%\n",
      "INFO:tensorflow:2018-10-22 20:51:11.149580: Step 190: Cross entropy = 0.001250\n",
      "INFO:tensorflow:2018-10-22 20:51:11.184430: Step 190: Validation accuracy = 100.0% (N=100)\n",
      "INFO:tensorflow:2018-10-22 20:51:11.546785: Step 200: Train accuracy = 100.0%\n",
      "INFO:tensorflow:2018-10-22 20:51:11.546910: Step 200: Cross entropy = 0.001062\n",
      "INFO:tensorflow:2018-10-22 20:51:11.583545: Step 200: Validation accuracy = 100.0% (N=100)\n",
      "INFO:tensorflow:2018-10-22 20:51:11.940171: Step 210: Train accuracy = 100.0%\n",
      "INFO:tensorflow:2018-10-22 20:51:11.940307: Step 210: Cross entropy = 0.002057\n",
      "INFO:tensorflow:2018-10-22 20:51:11.974697: Step 210: Validation accuracy = 100.0% (N=100)\n",
      "INFO:tensorflow:2018-10-22 20:51:12.335064: Step 220: Train accuracy = 100.0%\n",
      "INFO:tensorflow:2018-10-22 20:51:12.335195: Step 220: Cross entropy = 0.000544\n",
      "INFO:tensorflow:2018-10-22 20:51:12.371743: Step 220: Validation accuracy = 100.0% (N=100)\n",
      "INFO:tensorflow:2018-10-22 20:51:12.729316: Step 230: Train accuracy = 100.0%\n",
      "INFO:tensorflow:2018-10-22 20:51:12.729449: Step 230: Cross entropy = 0.001103\n",
      "INFO:tensorflow:2018-10-22 20:51:12.764365: Step 230: Validation accuracy = 100.0% (N=100)\n",
      "INFO:tensorflow:2018-10-22 20:51:13.130696: Step 240: Train accuracy = 100.0%\n",
      "INFO:tensorflow:2018-10-22 20:51:13.130822: Step 240: Cross entropy = 0.000857\n",
      "INFO:tensorflow:2018-10-22 20:51:13.165377: Step 240: Validation accuracy = 100.0% (N=100)\n",
      "INFO:tensorflow:2018-10-22 20:51:13.524241: Step 250: Train accuracy = 100.0%\n",
      "INFO:tensorflow:2018-10-22 20:51:13.524369: Step 250: Cross entropy = 0.001112\n",
      "INFO:tensorflow:2018-10-22 20:51:13.558312: Step 250: Validation accuracy = 100.0% (N=100)\n",
      "INFO:tensorflow:2018-10-22 20:51:13.917039: Step 260: Train accuracy = 100.0%\n",
      "INFO:tensorflow:2018-10-22 20:51:13.917171: Step 260: Cross entropy = 0.000671\n",
      "INFO:tensorflow:2018-10-22 20:51:13.953880: Step 260: Validation accuracy = 100.0% (N=100)\n",
      "INFO:tensorflow:2018-10-22 20:51:14.306487: Step 270: Train accuracy = 100.0%\n",
      "INFO:tensorflow:2018-10-22 20:51:14.306624: Step 270: Cross entropy = 0.000827\n",
      "INFO:tensorflow:2018-10-22 20:51:14.341367: Step 270: Validation accuracy = 100.0% (N=100)\n",
      "INFO:tensorflow:2018-10-22 20:51:14.690035: Step 280: Train accuracy = 100.0%\n",
      "INFO:tensorflow:2018-10-22 20:51:14.690166: Step 280: Cross entropy = 0.001003\n",
      "INFO:tensorflow:2018-10-22 20:51:14.724443: Step 280: Validation accuracy = 100.0% (N=100)\n",
      "INFO:tensorflow:2018-10-22 20:51:15.073703: Step 290: Train accuracy = 100.0%\n",
      "INFO:tensorflow:2018-10-22 20:51:15.073833: Step 290: Cross entropy = 0.000860\n",
      "INFO:tensorflow:2018-10-22 20:51:15.108079: Step 290: Validation accuracy = 100.0% (N=100)\n",
      "INFO:tensorflow:2018-10-22 20:51:15.457590: Step 300: Train accuracy = 100.0%\n",
      "INFO:tensorflow:2018-10-22 20:51:15.457719: Step 300: Cross entropy = 0.001096\n",
      "INFO:tensorflow:2018-10-22 20:51:15.492066: Step 300: Validation accuracy = 100.0% (N=100)\n",
      "INFO:tensorflow:2018-10-22 20:51:15.844630: Step 310: Train accuracy = 100.0%\n",
      "INFO:tensorflow:2018-10-22 20:51:15.844758: Step 310: Cross entropy = 0.000811\n",
      "INFO:tensorflow:2018-10-22 20:51:15.881443: Step 310: Validation accuracy = 100.0% (N=100)\n",
      "INFO:tensorflow:2018-10-22 20:51:16.247657: Step 320: Train accuracy = 100.0%\n",
      "INFO:tensorflow:2018-10-22 20:51:16.247791: Step 320: Cross entropy = 0.000618\n",
      "INFO:tensorflow:2018-10-22 20:51:16.284378: Step 320: Validation accuracy = 100.0% (N=100)\n",
      "INFO:tensorflow:2018-10-22 20:51:16.648559: Step 330: Train accuracy = 100.0%\n",
      "INFO:tensorflow:2018-10-22 20:51:16.648684: Step 330: Cross entropy = 0.000908\n",
      "INFO:tensorflow:2018-10-22 20:51:16.684306: Step 330: Validation accuracy = 100.0% (N=100)\n",
      "INFO:tensorflow:2018-10-22 20:51:17.045065: Step 340: Train accuracy = 100.0%\n",
      "INFO:tensorflow:2018-10-22 20:51:17.045196: Step 340: Cross entropy = 0.000453\n",
      "INFO:tensorflow:2018-10-22 20:51:17.081228: Step 340: Validation accuracy = 100.0% (N=100)\n",
      "INFO:tensorflow:2018-10-22 20:51:17.437370: Step 350: Train accuracy = 100.0%\n",
      "INFO:tensorflow:2018-10-22 20:51:17.437500: Step 350: Cross entropy = 0.000892\n",
      "INFO:tensorflow:2018-10-22 20:51:17.472787: Step 350: Validation accuracy = 100.0% (N=100)\n",
      "INFO:tensorflow:2018-10-22 20:51:17.837873: Step 360: Train accuracy = 100.0%\n",
      "INFO:tensorflow:2018-10-22 20:51:17.838004: Step 360: Cross entropy = 0.000470\n",
      "INFO:tensorflow:2018-10-22 20:51:17.873461: Step 360: Validation accuracy = 100.0% (N=100)\n",
      "INFO:tensorflow:2018-10-22 20:51:18.221517: Step 370: Train accuracy = 100.0%\n",
      "INFO:tensorflow:2018-10-22 20:51:18.221652: Step 370: Cross entropy = 0.000567\n",
      "INFO:tensorflow:2018-10-22 20:51:18.256329: Step 370: Validation accuracy = 100.0% (N=100)\n",
      "INFO:tensorflow:2018-10-22 20:51:18.614095: Step 380: Train accuracy = 100.0%\n",
      "INFO:tensorflow:2018-10-22 20:51:18.614224: Step 380: Cross entropy = 0.000547\n",
      "INFO:tensorflow:2018-10-22 20:51:18.648452: Step 380: Validation accuracy = 100.0% (N=100)\n",
      "INFO:tensorflow:2018-10-22 20:51:19.004904: Step 390: Train accuracy = 100.0%\n",
      "INFO:tensorflow:2018-10-22 20:51:19.005037: Step 390: Cross entropy = 0.000652\n",
      "INFO:tensorflow:2018-10-22 20:51:19.039343: Step 390: Validation accuracy = 100.0% (N=100)\n",
      "INFO:tensorflow:2018-10-22 20:51:19.402864: Step 400: Train accuracy = 100.0%\n",
      "INFO:tensorflow:2018-10-22 20:51:19.402994: Step 400: Cross entropy = 0.000534\n",
      "INFO:tensorflow:2018-10-22 20:51:19.439733: Step 400: Validation accuracy = 100.0% (N=100)\n",
      "INFO:tensorflow:2018-10-22 20:51:19.807305: Step 410: Train accuracy = 100.0%\n",
      "INFO:tensorflow:2018-10-22 20:51:19.807446: Step 410: Cross entropy = 0.000683\n",
      "INFO:tensorflow:2018-10-22 20:51:19.843276: Step 410: Validation accuracy = 100.0% (N=100)\n",
      "INFO:tensorflow:2018-10-22 20:51:20.203664: Step 420: Train accuracy = 100.0%\n",
      "INFO:tensorflow:2018-10-22 20:51:20.203797: Step 420: Cross entropy = 0.000569\n",
      "INFO:tensorflow:2018-10-22 20:51:20.238773: Step 420: Validation accuracy = 100.0% (N=100)\n",
      "INFO:tensorflow:2018-10-22 20:51:20.595408: Step 430: Train accuracy = 100.0%\n",
      "INFO:tensorflow:2018-10-22 20:51:20.595538: Step 430: Cross entropy = 0.000680\n",
      "INFO:tensorflow:2018-10-22 20:51:20.633485: Step 430: Validation accuracy = 100.0% (N=100)\n",
      "INFO:tensorflow:2018-10-22 20:51:20.985905: Step 440: Train accuracy = 100.0%\n",
      "INFO:tensorflow:2018-10-22 20:51:20.986037: Step 440: Cross entropy = 0.000939\n",
      "INFO:tensorflow:2018-10-22 20:51:21.020669: Step 440: Validation accuracy = 100.0% (N=100)\n",
      "INFO:tensorflow:2018-10-22 20:51:21.379810: Step 450: Train accuracy = 100.0%\n",
      "INFO:tensorflow:2018-10-22 20:51:21.379946: Step 450: Cross entropy = 0.000596\n",
      "INFO:tensorflow:2018-10-22 20:51:21.415588: Step 450: Validation accuracy = 100.0% (N=100)\n",
      "INFO:tensorflow:2018-10-22 20:51:21.766918: Step 460: Train accuracy = 100.0%\n",
      "INFO:tensorflow:2018-10-22 20:51:21.767066: Step 460: Cross entropy = 0.000710\n",
      "INFO:tensorflow:2018-10-22 20:51:21.804975: Step 460: Validation accuracy = 100.0% (N=100)\n",
      "INFO:tensorflow:2018-10-22 20:51:22.166842: Step 470: Train accuracy = 100.0%\n",
      "INFO:tensorflow:2018-10-22 20:51:22.166967: Step 470: Cross entropy = 0.000368\n",
      "INFO:tensorflow:2018-10-22 20:51:22.203257: Step 470: Validation accuracy = 100.0% (N=100)\n",
      "INFO:tensorflow:2018-10-22 20:51:22.572464: Step 480: Train accuracy = 100.0%\n",
      "INFO:tensorflow:2018-10-22 20:51:22.572599: Step 480: Cross entropy = 0.000708\n",
      "INFO:tensorflow:2018-10-22 20:51:22.607966: Step 480: Validation accuracy = 100.0% (N=100)\n",
      "INFO:tensorflow:2018-10-22 20:51:22.983671: Step 490: Train accuracy = 100.0%\n",
      "INFO:tensorflow:2018-10-22 20:51:22.983797: Step 490: Cross entropy = 0.000711\n",
      "INFO:tensorflow:2018-10-22 20:51:23.018166: Step 490: Validation accuracy = 100.0% (N=100)\n",
      "INFO:tensorflow:2018-10-22 20:51:23.373917: Step 499: Train accuracy = 100.0%\n",
      "INFO:tensorflow:2018-10-22 20:51:23.374055: Step 499: Cross entropy = 0.000558\n",
      "INFO:tensorflow:2018-10-22 20:51:23.409793: Step 499: Validation accuracy = 100.0% (N=100)\n",
      "INFO:tensorflow:Final test accuracy = 95.7% (N=23)\n",
      "INFO:tensorflow:Froze 2 variables.\n",
      "INFO:tensorflow:Converted 2 variables to const ops.\n"
     ]
    }
   ],
   "source": [
    "%%bash\n",
    "IMAGE_SIZE=224\n",
    "ARCHITECTURE=\"mobilenet_0.50_${IMAGE_SIZE}\"\n",
    "\n",
    "python -m scripts.retrain \\\n",
    "  --bottleneck_dir=tf_files/bottlenecks \\\n",
    "  --how_many_training_steps=500 \\\n",
    "  --model_dir=tf_files/models/ \\\n",
    "  --summaries_dir=tf_files/training_summaries/\"${ARCHITECTURE}\" \\\n",
    "  --output_graph=tf_files/tribune_graph.pb \\\n",
    "  --output_labels=tf_files/tribune_labels.txt \\\n",
    "  --architecture=\"${ARCHITECTURE}\" \\\n",
    "  --image_dir=tf_files/tribune"
   ]
  },
  {
   "cell_type": "markdown",
   "metadata": {},
   "source": [
    "## Test the trained model\n",
    "\n",
    "First let's test against the training set."
   ]
  },
  {
   "cell_type": "code",
   "execution_count": 17,
   "metadata": {},
   "outputs": [],
   "source": [
    "# Make a list of all the test images\n",
    "import os\n",
    "import random\n",
    "from IPython.display import display, HTML\n",
    "imgs = []\n",
    "data_dir = 'tf_files/tribune/'\n",
    "for img_dir in [d for d in os.listdir(data_dir) if os.path.isdir(os.path.join(data_dir, d))]:\n",
    "    for img in [i for i in os.listdir(os.path.join(data_dir, img_dir)) if i[-4:] == '.jpg']:\n",
    "        imgs.append(os.path.join(data_dir, img_dir, img))    "
   ]
  },
  {
   "cell_type": "code",
   "execution_count": 27,
   "metadata": {},
   "outputs": [
    {
     "data": {
      "text/html": [
       "<img src=\"tensorflow-for-poets-2/tf_files/tribune/protests/FL4520835-500.jpg\"><br>tf_files/tribune/protests/FL4520835-500.jpg"
      ],
      "text/plain": [
       "<IPython.core.display.HTML object>"
      ]
     },
     "metadata": {},
     "output_type": "display_data"
    }
   ],
   "source": [
    "# Choose one image at random\n",
    "img = random.sample(imgs, 1)[0]\n",
    "display(HTML('<img src=\"tensorflow-for-poets-2/{0}\"><br>{0}'.format(img)))"
   ]
  },
  {
   "cell_type": "code",
   "execution_count": 28,
   "metadata": {},
   "outputs": [
    {
     "name": "stdout",
     "output_type": "stream",
     "text": [
      "2018-10-22 20:57:50.689554: I tensorflow/core/platform/cpu_feature_guard.cc:141] Your CPU supports instructions that this TensorFlow binary was not compiled to use: AVX2 FMA\n",
      "\n",
      "Evaluation time (1-image): 0.206s\n",
      "\n",
      "protests (score=0.99985)\n",
      "portraits (score=0.00015)\n"
     ]
    }
   ],
   "source": [
    "!python -m scripts.label_image --graph=tf_files/tribune_graph.pb --labels=tf_files/tribune_labels.txt --image=$img"
   ]
  },
  {
   "cell_type": "markdown",
   "metadata": {},
   "source": [
    "## Test against a randomly selected image from the complete collection\n",
    "\n",
    "Let's see how our model goes against images it's never seen before..."
   ]
  },
  {
   "cell_type": "code",
   "execution_count": 33,
   "metadata": {},
   "outputs": [],
   "source": [
    "# Load Tribune images data\n",
    "import pandas as pd\n",
    "df = pd.read_csv('https://raw.githubusercontent.com/GLAM-Workbench/ozglam-data-records-of-resistance/master/data/images.csv')"
   ]
  },
  {
   "cell_type": "code",
   "execution_count": 46,
   "metadata": {},
   "outputs": [],
   "source": [
    "# Set up a directory for test images\n",
    "test_dir = os.path.join('tf_files', 'tribune_tests')\n",
    "os.makedirs(test_dir, exist_ok=True)\n",
    "images = df['images']"
   ]
  },
  {
   "cell_type": "code",
   "execution_count": 57,
   "metadata": {},
   "outputs": [
    {
     "data": {
      "text/html": [
       "<img src=\"tensorflow-for-poets-2/tf_files/tribune_tests/FL4477207-500.jpg\"><br>tf_files/tribune_tests/FL4477207-500.jpg"
      ],
      "text/plain": [
       "<IPython.core.display.HTML object>"
      ]
     },
     "metadata": {},
     "output_type": "display_data"
    }
   ],
   "source": [
    "# get a random image\n",
    "img = images.sample(1).iloc[0]\n",
    "img_url = 'https://s3-ap-southeast-2.amazonaws.com/wraggetribune/images/500/{0}-500.jpg'.format(img)\n",
    "filename = os.path.join(test_dir, '{}-500.jpg'.format(img))\n",
    "response = requests.get(img_url, stream=True)\n",
    "with open(filename, 'wb') as fd:\n",
    "    for chunk in response.iter_content(chunk_size=128):\n",
    "        fd.write(chunk)\n",
    "display(HTML('<img src=\"tensorflow-for-poets-2/{0}\"><br>{0}'.format(filename)))"
   ]
  },
  {
   "cell_type": "code",
   "execution_count": 58,
   "metadata": {},
   "outputs": [
    {
     "name": "stdout",
     "output_type": "stream",
     "text": [
      "2018-10-22 21:15:02.596403: I tensorflow/core/platform/cpu_feature_guard.cc:141] Your CPU supports instructions that this TensorFlow binary was not compiled to use: AVX2 FMA\n",
      "\n",
      "Evaluation time (1-image): 0.214s\n",
      "\n",
      "protests (score=0.94279)\n",
      "portraits (score=0.05721)\n"
     ]
    }
   ],
   "source": [
    "!python -m scripts.label_image --graph=tf_files/tribune_graph.pb --labels=tf_files/tribune_labels.txt --image=$filename"
   ]
  },
  {
   "cell_type": "code",
   "execution_count": null,
   "metadata": {},
   "outputs": [],
   "source": []
  }
 ],
 "metadata": {
  "kernelspec": {
   "display_name": "Python 3",
   "language": "python",
   "name": "python3"
  },
  "language_info": {
   "codemirror_mode": {
    "name": "ipython",
    "version": 3
   },
   "file_extension": ".py",
   "mimetype": "text/x-python",
   "name": "python",
   "nbconvert_exporter": "python",
   "pygments_lexer": "ipython3",
   "version": "3.6.5"
  }
 },
 "nbformat": 4,
 "nbformat_minor": 2
}
